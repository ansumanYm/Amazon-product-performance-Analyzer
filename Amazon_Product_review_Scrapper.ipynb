{
  "nbformat": 4,
  "nbformat_minor": 0,
  "metadata": {
    "colab": {
      "provenance": [],
      "collapsed_sections": []
    },
    "kernelspec": {
      "name": "python3",
      "display_name": "Python 3"
    },
    "language_info": {
      "name": "python"
    }
  },
  "cells": [
    {
      "cell_type": "markdown",
      "source": [
        "# Amazon product performance check using Sentiment Analysis"
      ],
      "metadata": {
        "id": "0yoqaG9-JiXp"
      }
    },
    {
      "cell_type": "markdown",
      "source": [
        "## What is Web Scrapping?\n",
        "\n",
        "Web scraping is an automatic method to obtain large amounts of data from websites. Most of this data is unstructured data in an HTML format which is then converted into structured data in a spreadsheet or a database so that it can be used in various applications."
      ],
      "metadata": {
        "id": "TC8zIbKJ_LOk"
      }
    },
    {
      "cell_type": "code",
      "execution_count": 2,
      "metadata": {
        "id": "kKmsTW6S2bvX"
      },
      "outputs": [],
      "source": [
        "import requests\n",
        "import pandas as pd\n",
        "from bs4 import BeautifulSoup"
      ]
    },
    {
      "cell_type": "code",
      "source": [
        "header={'User-Agent': 'Mozilla/5.0 (Windows NT 10.0; Win64; x64) AppleWebKit/537.36 (KHTML, like Gecko) Chrome/77.0.3865.90 Safari/537.36'}"
      ],
      "metadata": {
        "id": "bkp1cp_lAIpP"
      },
      "execution_count": null,
      "outputs": []
    },
    {
      "cell_type": "code",
      "source": [
        "search_query=\"titan+men+watches\"\n",
        "base_url=\"https://www.amazon.in/s?k=\"\n",
        "url=base_url+search_query\n",
        "header={'User-Agent': 'Mozilla/5.0 (Windows NT 10.0; Win64; x64) AppleWebKit/537.36 (KHTML, like Gecko) Chrome/77.0.3865.90 Safari/537.36'}\n",
        "search_response=requests.get(url,headers=header)\n",
        "search_response.status_code"
      ],
      "metadata": {
        "colab": {
          "base_uri": "https://localhost:8080/"
        },
        "id": "3GYSFl61A9zP",
        "outputId": "82bfba73-5d06-42a2-bd76-2229e80a5d69"
      },
      "execution_count": null,
      "outputs": [
        {
          "output_type": "execute_result",
          "data": {
            "text/plain": [
              "200"
            ]
          },
          "metadata": {},
          "execution_count": 5
        }
      ]
    },
    {
      "cell_type": "markdown",
      "source": [
        "A status code 200 is required to continue with the process."
      ],
      "metadata": {
        "id": "-6DoR_7XGahr"
      }
    },
    {
      "cell_type": "code",
      "source": [
        "# Function gets the content of page using url.\n",
        "\n",
        "cookie={} # insert request cookies within{}\n",
        "def getAmazonSearch(search_query):\n",
        "    url=\"https://www.amazon.in/s?k=\"+search_query\n",
        "    print(url)\n",
        "    page=requests.get(url,cookies=cookie,headers=header)\n",
        "    if page.status_code==200:\n",
        "        return page\n",
        "    else:\n",
        "        return \"Error\"\n",
        "\n",
        "\n",
        "# A function to get the contents of individual product pages using 'data-asin' number (unique identification number)\n",
        "\n",
        "def Searchasin(asin):\n",
        "    url=\"https://www.amazon.in/dp/\"+asin\n",
        "    print(url)\n",
        "    page=requests.get(url,cookies=cookie,headers=header)\n",
        "    if page.status_code==200:\n",
        "        return page\n",
        "    else:\n",
        "        return \"Error\""
      ],
      "metadata": {
        "id": "hokUjiEwAKb8"
      },
      "execution_count": null,
      "outputs": []
    },
    {
      "cell_type": "markdown",
      "source": [
        "## Scraping product names and ASIN numbers\n",
        "\n",
        "Every product in amazon has a unique identification number. This number is called ASIN — Amazon Standard Identification Number. Using the ASIN number, we can directly access every individual product."
      ],
      "metadata": {
        "id": "Qw9O3wI7GfkP"
      }
    },
    {
      "cell_type": "code",
      "source": [
        "data_asin=[]\n",
        "response=getAmazonSearch('titan+men+watches')\n",
        "soup=BeautifulSoup(response.content)\n",
        "for i in soup.findAll(\"div\",{'class':\"sg-col-4-of-12 s-result-item s-asin sg-col-4-of-16 sg-col s-widget-spacing-small sg-col-4-of-20\"}):\n",
        "    data_asin.append(i['data-asin'])"
      ],
      "metadata": {
        "colab": {
          "base_uri": "https://localhost:8080/"
        },
        "id": "iv15m48cAKYg",
        "outputId": "b3002c2d-ee35-4080-9df4-ee9dd90ff546"
      },
      "execution_count": null,
      "outputs": [
        {
          "output_type": "stream",
          "name": "stdout",
          "text": [
            "https://www.amazon.in/s?k=titan+men+watches\n"
          ]
        }
      ]
    },
    {
      "cell_type": "code",
      "source": [
        "data_asin"
      ],
      "metadata": {
        "id": "zUN1fPkMAKVr"
      },
      "execution_count": null,
      "outputs": []
    },
    {
      "cell_type": "code",
      "source": [
        "link=[]\n",
        "for i in range(len(data_asin[0])):\n",
        "    response=Searchasin(data_asin[i])\n",
        "    soup=BeautifulSoup(response.content)\n",
        "    for i in soup.findAll(\"a\",{'data-hook':\"see-all-reviews-link-foot\"}):\n",
        "        link.append(i['href'])"
      ],
      "metadata": {
        "colab": {
          "base_uri": "https://localhost:8080/"
        },
        "id": "-Fq5YxqzAKTG",
        "outputId": "e89248de-bcc4-4aa5-fbfd-558e10d32412"
      },
      "execution_count": null,
      "outputs": [
        {
          "output_type": "stream",
          "name": "stdout",
          "text": [
            "https://www.amazon.in/dp/B07SNC1BZQ\n",
            "https://www.amazon.in/dp/B07DD2KBXV\n",
            "https://www.amazon.in/dp/B01LZPW4SV\n",
            "https://www.amazon.in/dp/B07DD4LBXF\n",
            "https://www.amazon.in/dp/B018VZBTLY\n",
            "https://www.amazon.in/dp/B00ISNVQMW\n",
            "https://www.amazon.in/dp/B07CQ2DBSN\n",
            "https://www.amazon.in/dp/B07DD39617\n",
            "https://www.amazon.in/dp/B01CLFHBAS\n",
            "https://www.amazon.in/dp/B079FW32J7\n"
          ]
        }
      ]
    },
    {
      "cell_type": "code",
      "source": [
        "def Searchreviews(review_link):\n",
        "    url=\"https://www.amazon.in\"+review_link\n",
        "    print(url)\n",
        "    page=requests.get(url,cookies=cookie,headers=header)\n",
        "    if page.status_code==200:\n",
        "        return page\n",
        "    else:\n",
        "        return \"Error\""
      ],
      "metadata": {
        "id": "hpQNBtmyIV75"
      },
      "execution_count": null,
      "outputs": []
    },
    {
      "cell_type": "code",
      "source": [
        "reviews=[]\n",
        "for j in range(len(link)):\n",
        "    for k in range(100):\n",
        "        response=Searchreviews(link[j]+'&pageNumber='+str(k))\n",
        "        soup=BeautifulSoup(response.content)\n",
        "        for i in soup.findAll(\"span\",{'data-hook':\"review-body\"}):\n",
        "            reviews.append(i.text)"
      ],
      "metadata": {
        "id": "Nzv9sHNhAKQU"
      },
      "execution_count": null,
      "outputs": []
    },
    {
      "cell_type": "code",
      "source": [
        "reviews[:40]"
      ],
      "metadata": {
        "id": "hjSw2zZkAKNj"
      },
      "execution_count": null,
      "outputs": []
    },
    {
      "cell_type": "code",
      "source": [
        "rev={'reviews':reviews} #converting the reviews list into a dictionary\n",
        "review_data=pd.DataFrame.from_dict(rev) #converting this dictionary into a dataframe"
      ],
      "metadata": {
        "id": "a2EMuyawAKKs"
      },
      "execution_count": null,
      "outputs": []
    },
    {
      "cell_type": "code",
      "source": [
        "review_data"
      ],
      "metadata": {
        "id": "uLrChcLRAKHg"
      },
      "execution_count": null,
      "outputs": []
    },
    {
      "cell_type": "code",
      "source": [
        "review_data.to_csv('Scraping reviews.csv',index=False)"
      ],
      "metadata": {
        "id": "0XI1rOJrAKAn"
      },
      "execution_count": null,
      "outputs": []
    },
    {
      "cell_type": "markdown",
      "source": [
        "## Sentiment Analysis\n",
        "\n",
        "Let's perform sentiment analysis using the model we build in the previous ipynb."
      ],
      "metadata": {
        "id": "eLhBlUvB4J9G"
      }
    },
    {
      "cell_type": "code",
      "source": [
        "import pickle\n",
        "import pandas as pd\n",
        "import numpy as np\n",
        "import matplotlib.pyplot as plt\n",
        "import seaborn as sns\n",
        "\n",
        "import string\n",
        "import nltk\n",
        "nltk.download('stopwords')\n",
        "nltk.download('wordnet')\n",
        "nltk.download('punkt')\n",
        "nltk.download('words')\n",
        "nltk.download('averaged_perceptron_tagger')\n",
        "nltk.download('omw-1.4')\n",
        "from nltk.corpus import wordnet, stopwords\n",
        "\n",
        "from sklearn.pipeline import Pipeline\n",
        "from sklearn.feature_extraction.text import CountVectorizer, TfidfTransformer"
      ],
      "metadata": {
        "colab": {
          "base_uri": "https://localhost:8080/"
        },
        "id": "gNL6aNRE7zz8",
        "outputId": "569e2072-e2e7-404d-92be-0a92d9dfcf60"
      },
      "execution_count": 55,
      "outputs": [
        {
          "output_type": "stream",
          "name": "stderr",
          "text": [
            "[nltk_data] Downloading package stopwords to /root/nltk_data...\n",
            "[nltk_data]   Package stopwords is already up-to-date!\n",
            "[nltk_data] Downloading package wordnet to /root/nltk_data...\n",
            "[nltk_data]   Package wordnet is already up-to-date!\n",
            "[nltk_data] Downloading package punkt to /root/nltk_data...\n",
            "[nltk_data]   Package punkt is already up-to-date!\n",
            "[nltk_data] Downloading package words to /root/nltk_data...\n",
            "[nltk_data]   Package words is already up-to-date!\n",
            "[nltk_data] Downloading package averaged_perceptron_tagger to\n",
            "[nltk_data]     /root/nltk_data...\n",
            "[nltk_data]   Package averaged_perceptron_tagger is already up-to-\n",
            "[nltk_data]       date!\n",
            "[nltk_data] Downloading package omw-1.4 to /root/nltk_data...\n",
            "[nltk_data]   Package omw-1.4 is already up-to-date!\n"
          ]
        }
      ]
    },
    {
      "cell_type": "code",
      "source": [
        "logreg_model = pickle.load(open('/content/logreg.pkl', 'rb'))\n",
        "scrapped_reviews = pd.read_csv('/content/Scraping reviews.csv')"
      ],
      "metadata": {
        "id": "dOQAFc5a733q"
      },
      "execution_count": 56,
      "outputs": []
    },
    {
      "cell_type": "code",
      "source": [
        "# Dropping the Null values\n",
        "scrapped_reviews.dropna(inplace = True)"
      ],
      "metadata": {
        "id": "BoqGARd0HXFh"
      },
      "execution_count": 57,
      "outputs": []
    },
    {
      "cell_type": "code",
      "source": [
        "scrapped_reviews.info()"
      ],
      "metadata": {
        "colab": {
          "base_uri": "https://localhost:8080/"
        },
        "id": "57eW6QGp_gRy",
        "outputId": "505fa818-1172-41e1-939a-9db2e0e3c89c"
      },
      "execution_count": 58,
      "outputs": [
        {
          "output_type": "stream",
          "name": "stdout",
          "text": [
            "<class 'pandas.core.frame.DataFrame'>\n",
            "Int64Index: 3598 entries, 1 to 3674\n",
            "Data columns (total 1 columns):\n",
            " #   Column   Non-Null Count  Dtype \n",
            "---  ------   --------------  ----- \n",
            " 0   reviews  3598 non-null   object\n",
            "dtypes: object(1)\n",
            "memory usage: 56.2+ KB\n"
          ]
        }
      ]
    },
    {
      "cell_type": "code",
      "source": [
        "stopwords_list = stopwords.words('english')\n",
        "\n",
        "# A function to remove emojis from the reviews\n",
        "def deEmojify(inputString):\n",
        "    return inputString.encode('ascii', 'ignore').decode('ascii') \n",
        "\n",
        "# Removing Stopwards and unwanted text\n",
        "def ReviewProcessing(df):\n",
        "  # To remove '\\n' from every review\n",
        "  df['reviews']=df['reviews'].apply(lambda x:x.strip('\\n')) \n",
        "  # remove non alphanumeric \n",
        "  df['review_cleaned'] = df.reviews.str.replace('[^a-zA-Z0-9 ]', '')\n",
        "  # lowercase\n",
        "  df.review_cleaned = df.review_cleaned.str.lower()\n",
        "  # split into list\n",
        "  df.review_cleaned = df.review_cleaned.str.split(' ')\n",
        "  # remove stopwords\n",
        "  df.review_cleaned = df.review_cleaned.apply(lambda x: [item for item in x if item not in stopwords_list])\n",
        "  return df \n",
        "\n",
        "# Lemmatization\n",
        "def get_wordnet_pos(word):\n",
        "  tag = nltk.pos_tag([word])[0][1][0].upper()\n",
        "  tag_dict = {\"J\": wordnet.ADJ,\n",
        "                \"N\": wordnet.NOUN,\n",
        "                \"V\": wordnet.VERB,\n",
        "                \"R\": wordnet.ADV}\n",
        "\n",
        "  return tag_dict.get(tag, wordnet.NOUN)\n",
        "\n",
        "lemmatizer = nltk.stem.WordNetLemmatizer()\n",
        "\n",
        "def get_lemmatize(sent):\n",
        "  return \" \".join([lemmatizer.lemmatize(w, get_wordnet_pos(w)) for w in nltk.word_tokenize(sent)])"
      ],
      "metadata": {
        "id": "573xTL9BMiZg"
      },
      "execution_count": 59,
      "outputs": []
    },
    {
      "cell_type": "code",
      "source": [
        "clean_data = ReviewProcessing(scrapped_reviews)\n",
        "clean_data.review_cleaned = clean_data.review_cleaned.apply(' '.join)\n",
        "clean_data.review_cleaned = clean_data.review_cleaned.apply(deEmojify)\n",
        "clean_data['review_cleaned_lemmatized'] = clean_data.review_cleaned.apply(get_lemmatize)"
      ],
      "metadata": {
        "colab": {
          "base_uri": "https://localhost:8080/"
        },
        "id": "jktXnK-36DUJ",
        "outputId": "a5c6a64b-93ab-4081-ec7f-d5920ae05ccb"
      },
      "execution_count": 60,
      "outputs": [
        {
          "output_type": "stream",
          "name": "stderr",
          "text": [
            "/usr/local/lib/python3.7/dist-packages/ipykernel_launcher.py:12: FutureWarning: The default value of regex will change from True to False in a future version.\n",
            "  if sys.path[0] == '':\n"
          ]
        }
      ]
    },
    {
      "cell_type": "code",
      "source": [
        "clean_data"
      ],
      "metadata": {
        "colab": {
          "base_uri": "https://localhost:8080/",
          "height": 424
        },
        "id": "i_O6lVzTDwqJ",
        "outputId": "f02d680d-03c6-4d1d-ba75-9b2c0e067f54"
      },
      "execution_count": 61,
      "outputs": [
        {
          "output_type": "execute_result",
          "data": {
            "text/plain": [
              "                                                reviews  \\\n",
              "1     Nice gift to give! However not sure how long t...   \n",
              "2                         The media could not be loa...   \n",
              "3                                                 Super   \n",
              "4        Too heavy. The dial glass is not scratch proof   \n",
              "5                               Good looking slim watch   \n",
              "...                                                 ...   \n",
              "3670  i have gifted this watch to my father on his b...   \n",
              "3671                                                 No   \n",
              "3672                                    Geniune product   \n",
              "3673  Simply amazing in its look and feel. So far it...   \n",
              "3674                                    Good product 👍👌   \n",
              "\n",
              "                                         review_cleaned  \\\n",
              "1     nice gift give however sure long product may l...   \n",
              "2                         media could loaded        ...   \n",
              "3                                                 super   \n",
              "4                        heavy dial glass scratch proof   \n",
              "5                               good looking slim watch   \n",
              "...                                                 ...   \n",
              "3670          gifted watch father birthday  good loved    \n",
              "3671                                                      \n",
              "3672                                    geniune product   \n",
              "3673  simply amazing look feel far working without h...   \n",
              "3674                                      good product    \n",
              "\n",
              "                              review_cleaned_lemmatized  \n",
              "1     nice gift give however sure long product may l...  \n",
              "2                                     medium could load  \n",
              "3                                                 super  \n",
              "4                        heavy dial glass scratch proof  \n",
              "5                                  good look slim watch  \n",
              "...                                                 ...  \n",
              "3670               gift watch father birthday good love  \n",
              "3671                                                     \n",
              "3672                                    geniune product  \n",
              "3673     simply amaze look feel far work without hiccup  \n",
              "3674                                       good product  \n",
              "\n",
              "[3598 rows x 3 columns]"
            ],
            "text/html": [
              "\n",
              "  <div id=\"df-878ef418-f16d-4a62-971f-a27de840f30d\">\n",
              "    <div class=\"colab-df-container\">\n",
              "      <div>\n",
              "<style scoped>\n",
              "    .dataframe tbody tr th:only-of-type {\n",
              "        vertical-align: middle;\n",
              "    }\n",
              "\n",
              "    .dataframe tbody tr th {\n",
              "        vertical-align: top;\n",
              "    }\n",
              "\n",
              "    .dataframe thead th {\n",
              "        text-align: right;\n",
              "    }\n",
              "</style>\n",
              "<table border=\"1\" class=\"dataframe\">\n",
              "  <thead>\n",
              "    <tr style=\"text-align: right;\">\n",
              "      <th></th>\n",
              "      <th>reviews</th>\n",
              "      <th>review_cleaned</th>\n",
              "      <th>review_cleaned_lemmatized</th>\n",
              "    </tr>\n",
              "  </thead>\n",
              "  <tbody>\n",
              "    <tr>\n",
              "      <th>1</th>\n",
              "      <td>Nice gift to give! However not sure how long t...</td>\n",
              "      <td>nice gift give however sure long product may l...</td>\n",
              "      <td>nice gift give however sure long product may l...</td>\n",
              "    </tr>\n",
              "    <tr>\n",
              "      <th>2</th>\n",
              "      <td>The media could not be loa...</td>\n",
              "      <td>media could loaded        ...</td>\n",
              "      <td>medium could load</td>\n",
              "    </tr>\n",
              "    <tr>\n",
              "      <th>3</th>\n",
              "      <td>Super</td>\n",
              "      <td>super</td>\n",
              "      <td>super</td>\n",
              "    </tr>\n",
              "    <tr>\n",
              "      <th>4</th>\n",
              "      <td>Too heavy. The dial glass is not scratch proof</td>\n",
              "      <td>heavy dial glass scratch proof</td>\n",
              "      <td>heavy dial glass scratch proof</td>\n",
              "    </tr>\n",
              "    <tr>\n",
              "      <th>5</th>\n",
              "      <td>Good looking slim watch</td>\n",
              "      <td>good looking slim watch</td>\n",
              "      <td>good look slim watch</td>\n",
              "    </tr>\n",
              "    <tr>\n",
              "      <th>...</th>\n",
              "      <td>...</td>\n",
              "      <td>...</td>\n",
              "      <td>...</td>\n",
              "    </tr>\n",
              "    <tr>\n",
              "      <th>3670</th>\n",
              "      <td>i have gifted this watch to my father on his b...</td>\n",
              "      <td>gifted watch father birthday  good loved</td>\n",
              "      <td>gift watch father birthday good love</td>\n",
              "    </tr>\n",
              "    <tr>\n",
              "      <th>3671</th>\n",
              "      <td>No</td>\n",
              "      <td></td>\n",
              "      <td></td>\n",
              "    </tr>\n",
              "    <tr>\n",
              "      <th>3672</th>\n",
              "      <td>Geniune product</td>\n",
              "      <td>geniune product</td>\n",
              "      <td>geniune product</td>\n",
              "    </tr>\n",
              "    <tr>\n",
              "      <th>3673</th>\n",
              "      <td>Simply amazing in its look and feel. So far it...</td>\n",
              "      <td>simply amazing look feel far working without h...</td>\n",
              "      <td>simply amaze look feel far work without hiccup</td>\n",
              "    </tr>\n",
              "    <tr>\n",
              "      <th>3674</th>\n",
              "      <td>Good product 👍👌</td>\n",
              "      <td>good product</td>\n",
              "      <td>good product</td>\n",
              "    </tr>\n",
              "  </tbody>\n",
              "</table>\n",
              "<p>3598 rows × 3 columns</p>\n",
              "</div>\n",
              "      <button class=\"colab-df-convert\" onclick=\"convertToInteractive('df-878ef418-f16d-4a62-971f-a27de840f30d')\"\n",
              "              title=\"Convert this dataframe to an interactive table.\"\n",
              "              style=\"display:none;\">\n",
              "        \n",
              "  <svg xmlns=\"http://www.w3.org/2000/svg\" height=\"24px\"viewBox=\"0 0 24 24\"\n",
              "       width=\"24px\">\n",
              "    <path d=\"M0 0h24v24H0V0z\" fill=\"none\"/>\n",
              "    <path d=\"M18.56 5.44l.94 2.06.94-2.06 2.06-.94-2.06-.94-.94-2.06-.94 2.06-2.06.94zm-11 1L8.5 8.5l.94-2.06 2.06-.94-2.06-.94L8.5 2.5l-.94 2.06-2.06.94zm10 10l.94 2.06.94-2.06 2.06-.94-2.06-.94-.94-2.06-.94 2.06-2.06.94z\"/><path d=\"M17.41 7.96l-1.37-1.37c-.4-.4-.92-.59-1.43-.59-.52 0-1.04.2-1.43.59L10.3 9.45l-7.72 7.72c-.78.78-.78 2.05 0 2.83L4 21.41c.39.39.9.59 1.41.59.51 0 1.02-.2 1.41-.59l7.78-7.78 2.81-2.81c.8-.78.8-2.07 0-2.86zM5.41 20L4 18.59l7.72-7.72 1.47 1.35L5.41 20z\"/>\n",
              "  </svg>\n",
              "      </button>\n",
              "      \n",
              "  <style>\n",
              "    .colab-df-container {\n",
              "      display:flex;\n",
              "      flex-wrap:wrap;\n",
              "      gap: 12px;\n",
              "    }\n",
              "\n",
              "    .colab-df-convert {\n",
              "      background-color: #E8F0FE;\n",
              "      border: none;\n",
              "      border-radius: 50%;\n",
              "      cursor: pointer;\n",
              "      display: none;\n",
              "      fill: #1967D2;\n",
              "      height: 32px;\n",
              "      padding: 0 0 0 0;\n",
              "      width: 32px;\n",
              "    }\n",
              "\n",
              "    .colab-df-convert:hover {\n",
              "      background-color: #E2EBFA;\n",
              "      box-shadow: 0px 1px 2px rgba(60, 64, 67, 0.3), 0px 1px 3px 1px rgba(60, 64, 67, 0.15);\n",
              "      fill: #174EA6;\n",
              "    }\n",
              "\n",
              "    [theme=dark] .colab-df-convert {\n",
              "      background-color: #3B4455;\n",
              "      fill: #D2E3FC;\n",
              "    }\n",
              "\n",
              "    [theme=dark] .colab-df-convert:hover {\n",
              "      background-color: #434B5C;\n",
              "      box-shadow: 0px 1px 3px 1px rgba(0, 0, 0, 0.15);\n",
              "      filter: drop-shadow(0px 1px 2px rgba(0, 0, 0, 0.3));\n",
              "      fill: #FFFFFF;\n",
              "    }\n",
              "  </style>\n",
              "\n",
              "      <script>\n",
              "        const buttonEl =\n",
              "          document.querySelector('#df-878ef418-f16d-4a62-971f-a27de840f30d button.colab-df-convert');\n",
              "        buttonEl.style.display =\n",
              "          google.colab.kernel.accessAllowed ? 'block' : 'none';\n",
              "\n",
              "        async function convertToInteractive(key) {\n",
              "          const element = document.querySelector('#df-878ef418-f16d-4a62-971f-a27de840f30d');\n",
              "          const dataTable =\n",
              "            await google.colab.kernel.invokeFunction('convertToInteractive',\n",
              "                                                     [key], {});\n",
              "          if (!dataTable) return;\n",
              "\n",
              "          const docLinkHtml = 'Like what you see? Visit the ' +\n",
              "            '<a target=\"_blank\" href=https://colab.research.google.com/notebooks/data_table.ipynb>data table notebook</a>'\n",
              "            + ' to learn more about interactive tables.';\n",
              "          element.innerHTML = '';\n",
              "          dataTable['output_type'] = 'display_data';\n",
              "          await google.colab.output.renderOutput(dataTable, element);\n",
              "          const docLink = document.createElement('div');\n",
              "          docLink.innerHTML = docLinkHtml;\n",
              "          element.appendChild(docLink);\n",
              "        }\n",
              "      </script>\n",
              "    </div>\n",
              "  </div>\n",
              "  "
            ]
          },
          "metadata": {},
          "execution_count": 61
        }
      ]
    },
    {
      "cell_type": "code",
      "source": [
        "# Input Data\n",
        "x = clean_data['review_cleaned_lemmatized'].copy()\n"
      ],
      "metadata": {
        "id": "LgQDrxsGIbnx"
      },
      "execution_count": 62,
      "outputs": []
    }
  ]
}